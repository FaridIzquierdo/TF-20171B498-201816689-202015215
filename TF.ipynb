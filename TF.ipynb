{
  "nbformat": 4,
  "nbformat_minor": 0,
  "metadata": {
    "colab": {
      "name": "TF",
      "provenance": []
    },
    "kernelspec": {
      "name": "python3",
      "display_name": "Python 3"
    },
    "language_info": {
      "name": "python"
    }
  },
  "cells": [
    {
      "cell_type": "markdown",
      "source": [
        "Cargar datasets alojados en el github"
      ],
      "metadata": {
        "id": "G6z6OoXzjhJ6"
      }
    },
    {
      "cell_type": "code",
      "execution_count": 8,
      "metadata": {
        "colab": {
          "base_uri": "https://localhost:8080/"
        },
        "id": "KZg1zvh5jf3c",
        "outputId": "8a251206-e3e8-4fec-a758-72fd0b5cb88a"
      },
      "outputs": [
        {
          "output_type": "stream",
          "name": "stdout",
          "text": [
            "--2022-06-20 05:26:17--  https://raw.githubusercontent.com/FaridIzquierdo/TF-20171B498-201816689-202015215/main/datasets/Lima-calles.csv\n",
            "Resolving raw.githubusercontent.com (raw.githubusercontent.com)... 185.199.108.133, 185.199.109.133, 185.199.110.133, ...\n",
            "Connecting to raw.githubusercontent.com (raw.githubusercontent.com)|185.199.108.133|:443... connected.\n",
            "HTTP request sent, awaiting response... 200 OK\n",
            "Length: 534498 (522K) [text/plain]\n",
            "Saving to: ‘datasets/Lima-calles.csv.1’\n",
            "\n",
            "Lima-calles.csv.1   100%[===================>] 521.97K  --.-KB/s    in 0.03s   \n",
            "\n",
            "2022-06-20 05:26:18 (17.7 MB/s) - ‘datasets/Lima-calles.csv.1’ saved [534498/534498]\n",
            "\n",
            "--2022-06-20 05:26:18--  https://raw.githubusercontent.com/FaridIzquierdo/TF-20171B498-201816689-202015215/main/datasets/Lima-intersecciones.csv\n",
            "Resolving raw.githubusercontent.com (raw.githubusercontent.com)... 185.199.108.133, 185.199.109.133, 185.199.110.133, ...\n",
            "Connecting to raw.githubusercontent.com (raw.githubusercontent.com)|185.199.108.133|:443... connected.\n",
            "HTTP request sent, awaiting response... 200 OK\n",
            "Length: 12107112 (12M) [text/plain]\n",
            "Saving to: ‘datasets/Lima-intersecciones.csv.1’\n",
            "\n",
            "Lima-intersecciones 100%[===================>]  11.55M  --.-KB/s    in 0.08s   \n",
            "\n",
            "2022-06-20 05:26:18 (142 MB/s) - ‘datasets/Lima-intersecciones.csv.1’ saved [12107112/12107112]\n",
            "\n"
          ]
        }
      ],
      "source": [
        "!wget https://raw.githubusercontent.com/FaridIzquierdo/TF-20171B498-201816689-202015215/main/datasets/Lima-calles.csv -P datasets/\n",
        "!wget https://raw.githubusercontent.com/FaridIzquierdo/TF-20171B498-201816689-202015215/main/datasets/Lima-intersecciones.csv -P datasets/"
      ]
    },
    {
      "cell_type": "code",
      "source": [
        "import csv"
      ],
      "metadata": {
        "id": "tS1RNQjYkG9g"
      },
      "execution_count": 9,
      "outputs": []
    },
    {
      "cell_type": "code",
      "source": [
        "def loadFile(fileName):\n",
        "  data = []\n",
        "  with open(fileName, encoding=\"ISO-8859-1\") as file_name:  \n",
        "    file = csv.reader(file_name)\n",
        "    for row in file:\n",
        "      data.append(row)\n",
        "  return data"
      ],
      "metadata": {
        "id": "wSAQtqdFj4h8"
      },
      "execution_count": 10,
      "outputs": []
    },
    {
      "cell_type": "code",
      "source": [
        "lima_streets_list = loadFile('datasets/Lima-calles.csv')\n",
        "lima_intersections_list = loadFile('datasets/Lima-intersecciones.csv')"
      ],
      "metadata": {
        "id": "9CpY1pYoj2sT"
      },
      "execution_count": 11,
      "outputs": []
    }
  ]
}
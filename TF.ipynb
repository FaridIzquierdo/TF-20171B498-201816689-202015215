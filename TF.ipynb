{
  "nbformat": 4,
  "nbformat_minor": 0,
  "metadata": {
    "colab": {
      "name": "TF",
      "provenance": []
    },
    "kernelspec": {
      "name": "python3",
      "display_name": "Python 3"
    },
    "language_info": {
      "name": "python"
    }
  },
  "cells": [
    {
      "cell_type": "markdown",
      "source": [
        "Cargar datasets alojados en el github"
      ],
      "metadata": {
        "id": "G6z6OoXzjhJ6"
      }
    },
    {
      "cell_type": "code",
      "execution_count": null,
      "metadata": {
        "id": "KZg1zvh5jf3c"
      },
      "outputs": [],
      "source": [
        "!wget https://raw.githubusercontent.com/FaridIzquierdo/TF-20171B498-201816689-202015215/main/datasets/Lima-calles.csv -P datasets/\n",
        "!wget https://raw.githubusercontent.com/FaridIzquierdo/TF-20171B498-201816689-202015215/main/datasets/Lima-intersecciones.csv -P datasets/"
      ]
    },
    {
      "cell_type": "code",
      "source": [
        "import random\n",
        "import csv"
      ],
      "metadata": {
        "id": "tS1RNQjYkG9g"
      },
      "execution_count": null,
      "outputs": []
    },
    {
      "cell_type": "code",
      "source": [
        "def randomHour():\n",
        "  random_h = random.randrange(24)\n",
        "  random_m = random.randrange(60)\n",
        "\n",
        "  hour = \"\"\n",
        "  if random_h < 10:\n",
        "    hour += str(0) + str(random_h) + \":\"\n",
        "  else:\n",
        "    hour += str(random_h) + \":\"\n",
        "\n",
        "  if random_m < 10:\n",
        "    hour += str(0) + str(random_m)\n",
        "  else:\n",
        "    hour += str(random_m)\n",
        "  return hour"
      ],
      "metadata": {
        "id": "wEQ7l_Zilfc6"
      },
      "execution_count": null,
      "outputs": []
    },
    {
      "cell_type": "code",
      "source": [
        "def trafficIntensity():\n",
        "  temp = []\n",
        "\n",
        "  for i in range(24):\n",
        "    if i < 4:\n",
        "      intensity = round(random.uniform(0,0.3),2)\n",
        "    else:\n",
        "      intensity = round(random.uniform(0.3,5),2)\n",
        "    temp.append(intensity)\n",
        "\n",
        "  return temp"
      ],
      "metadata": {
        "id": "5anUyRVululZ"
      },
      "execution_count": null,
      "outputs": []
    },
    {
      "cell_type": "code",
      "source": [
        "def loadFile(fileName, traffic_intensity_list = False):\n",
        "  data = []\n",
        "  with open(fileName, encoding=\"ISO-8859-1\") as file_name:  \n",
        "    file = csv.reader(file_name)\n",
        "    for row in file:\n",
        "      data.append(row)\n",
        "      if traffic_intensity_list == True:\n",
        "        intensity_list = trafficIntensity()\n",
        "        row.append(intensity_list)\n",
        "        weight = float(row[7]) * intensity_list[int(hour[:2])]\n",
        "        row.append(weight)\n",
        "  return data"
      ],
      "metadata": {
        "id": "wSAQtqdFj4h8"
      },
      "execution_count": null,
      "outputs": []
    },
    {
      "cell_type": "code",
      "source": [
        "def nodeList():\n",
        "  for row in lima_intersections_list:\n",
        "\n",
        "    id_origin_interection = row[5]\n",
        "    id_final_intersection = row[6]\n",
        "\n",
        "    if id_origin_interection not in node_list_id:\n",
        "      temp = []\n",
        "      temp.append(id_origin_interection)  #ID_Origen_intereccion\n",
        "      temp.append(row[11])                #Latitud_Origen_Interseccion\n",
        "      temp.append(row[12])                #Longitud_Origen_Interseccion\n",
        "      node_list.append(temp)\n",
        "\n",
        "      ad_list.append([])\n",
        "      node_list_id.append(id_origin_interection)\n",
        "\n",
        "    if id_final_intersection not in node_list_id:\n",
        "      temp = []\n",
        "      temp.append(id_final_intersection)  #ID_Final_Interseccion\n",
        "      temp.append(row[13])                #Latitud_Destino_Interseccion\n",
        "      temp.append(row[14])                #Longitud_Destino_Interseccion\n",
        "      node_list.append(temp)\n",
        "\n",
        "      ad_list.append([])\n",
        "      node_list_id.append(id_final_intersection)\n",
        "  return None"
      ],
      "metadata": {
        "id": "ofl2jpjAmehv"
      },
      "execution_count": null,
      "outputs": []
    },
    {
      "cell_type": "code",
      "source": [
        "def adjacencyList():\n",
        "  n = len(node_list)\n",
        "  \n",
        "  for row in lima_intersections_list:\n",
        "    index_origin = node_list_id.index(row[5])\n",
        "    index_final = node_list_id.index(row[6])\n",
        "\n",
        "    weight = row[16]\n",
        "\n",
        "    ad_list[index_origin].append([index_final, weight])\n",
        "    ad_list[index_final].append([index_origin, weight])\n",
        "\n",
        "  return None"
      ],
      "metadata": {
        "id": "OJnghVm8lQM4"
      },
      "execution_count": null,
      "outputs": []
    },
    {
      "cell_type": "code",
      "source": [
        "def updateTrafficIntensity():\n",
        "  for row in lima_intersections_list:\n",
        "    index_origin = node_list_id.index(row[5])\n",
        "    index_final = node_list_id.index(row[6])\n",
        "\n",
        "    weight = float(row[7]) * row[15][int(hour[:2])]\n",
        "\n",
        "    for edge in ad_list[index_origin]:\n",
        "      if edge[0] == index_final:\n",
        "        edge[1] = weight\n",
        "\n",
        "    for edge in ad_list[index_final]:\n",
        "      if edge[0] == index_origin:\n",
        "        edge[1] = weight"
      ],
      "metadata": {
        "id": "-CZfjaWJe0nA"
      },
      "execution_count": null,
      "outputs": []
    },
    {
      "cell_type": "code",
      "source": [
        "hour = randomHour()\n",
        "lima_streets_list = loadFile('datasets/Lima-calles.csv')\n",
        "lima_intersections_list = loadFile('datasets/Lima-intersecciones.csv', traffic_intensity_list = True)\n",
        "node_list = []           #Lista de intersecciones (NODOS)\n",
        "node_list_id = []        #Solo lista de los id de las intersecciones\n",
        "ad_list = []             #Lista de adyacencia\n",
        "nodeList()\n",
        "adjacencyList()          #Edita la lista de adyancencia y asigna los pesos correspondientes\n",
        "hour = randomHour()      #Cambiamos la hora\n",
        "updateTrafficIntensity() #Actualizamos los pesos de las aristas"
      ],
      "metadata": {
        "id": "9CpY1pYoj2sT"
      },
      "execution_count": 9,
      "outputs": []
    }
  ]
}